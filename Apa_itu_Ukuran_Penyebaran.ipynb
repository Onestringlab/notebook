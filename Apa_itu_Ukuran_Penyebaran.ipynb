{
  "nbformat": 4,
  "nbformat_minor": 0,
  "metadata": {
    "colab": {
      "name": "Apa itu Ukuran Penyebaran.ipynb",
      "provenance": [],
      "authorship_tag": "ABX9TyMHcfNMbwVVPXiKHUbBV7JU"
    },
    "kernelspec": {
      "name": "python3",
      "display_name": "Python 3"
    },
    "language_info": {
      "name": "python"
    }
  },
  "cells": [
    {
      "cell_type": "markdown",
      "metadata": {
        "id": "gXJZ0Acf8xFM"
      },
      "source": [
        "**import library numpy**"
      ]
    },
    {
      "cell_type": "code",
      "metadata": {
        "id": "-CFgCVUY8hIl"
      },
      "source": [
        "import numpy as np"
      ],
      "execution_count": 1,
      "outputs": []
    },
    {
      "cell_type": "markdown",
      "metadata": {
        "id": "JRxcW0II9Eci"
      },
      "source": [
        "**Membuat Data**"
      ]
    },
    {
      "cell_type": "code",
      "metadata": {
        "colab": {
          "base_uri": "https://localhost:8080/"
        },
        "id": "eySrgfRM9D1O",
        "outputId": "2313a022-c451-44a8-baf4-88824c92efa9"
      },
      "source": [
        "# generate 30 data bilangan real\n",
        "data = np.random.randn(30)\n",
        "data"
      ],
      "execution_count": 2,
      "outputs": [
        {
          "output_type": "execute_result",
          "data": {
            "text/plain": [
              "array([-0.51651311,  0.76912404, -0.39929102, -0.31887593, -0.28429256,\n",
              "       -0.4069794 , -1.13725227, -0.9354492 ,  1.179201  ,  0.27973718,\n",
              "       -0.06776712,  1.26117046,  0.42460798, -0.7918722 , -2.55477942,\n",
              "        0.59569251,  0.91669   ,  1.44134073, -1.11993313,  0.31701699,\n",
              "        0.20724483, -0.91935745,  2.08500607, -0.54323315, -0.87337576,\n",
              "       -1.97492794, -0.3853862 , -0.25312433, -0.00490494, -1.12812391])"
            ]
          },
          "metadata": {},
          "execution_count": 2
        }
      ]
    },
    {
      "cell_type": "code",
      "metadata": {
        "colab": {
          "base_uri": "https://localhost:8080/"
        },
        "id": "BEd0jgtx_01j",
        "outputId": "329bdab9-cf56-47d9-93f0-9fa5a4b01671"
      },
      "source": [
        "# mengurutkan data\n",
        "data = np.sort(data)\n",
        "data"
      ],
      "execution_count": 3,
      "outputs": [
        {
          "output_type": "execute_result",
          "data": {
            "text/plain": [
              "array([-2.55477942, -1.97492794, -1.13725227, -1.12812391, -1.11993313,\n",
              "       -0.9354492 , -0.91935745, -0.87337576, -0.7918722 , -0.54323315,\n",
              "       -0.51651311, -0.4069794 , -0.39929102, -0.3853862 , -0.31887593,\n",
              "       -0.28429256, -0.25312433, -0.06776712, -0.00490494,  0.20724483,\n",
              "        0.27973718,  0.31701699,  0.42460798,  0.59569251,  0.76912404,\n",
              "        0.91669   ,  1.179201  ,  1.26117046,  1.44134073,  2.08500607])"
            ]
          },
          "metadata": {},
          "execution_count": 3
        }
      ]
    },
    {
      "cell_type": "code",
      "metadata": {
        "colab": {
          "base_uri": "https://localhost:8080/"
        },
        "id": "7Sg6qWlV-PeJ",
        "outputId": "63476a36-10d8-4079-ece9-88977d09f9a6"
      },
      "source": [
        "# menghitung range\n",
        "np.max(data) - np.min(data)"
      ],
      "execution_count": 4,
      "outputs": [
        {
          "output_type": "execute_result",
          "data": {
            "text/plain": [
              "4.639785487958829"
            ]
          },
          "metadata": {},
          "execution_count": 4
        }
      ]
    },
    {
      "cell_type": "markdown",
      "metadata": {
        "id": "vNaBOq6Y-rG_"
      },
      "source": [
        "**Quartile**\n",
        "Quartile membagi urutan-urutan data menjadi 4 bagian yang sama"
      ]
    },
    {
      "cell_type": "code",
      "metadata": {
        "colab": {
          "base_uri": "https://localhost:8080/"
        },
        "id": "KHVBbVu5_B28",
        "outputId": "c0e10080-2e10-4958-e045-748f967c1e0a"
      },
      "source": [
        "# Quartile Pertama\n",
        "Q1 = np.percentile(data,25)\n",
        "Q1"
      ],
      "execution_count": 5,
      "outputs": [
        {
          "output_type": "execute_result",
          "data": {
            "text/plain": [
              "-0.8529998695325994"
            ]
          },
          "metadata": {},
          "execution_count": 5
        }
      ]
    },
    {
      "cell_type": "code",
      "metadata": {
        "colab": {
          "base_uri": "https://localhost:8080/"
        },
        "id": "yF0D5i7j_et2",
        "outputId": "1ce8b981-3dc6-4857-c3e0-cf4ab6777e39"
      },
      "source": [
        "# Quartile Kedua\n",
        "Q2 = np.percentile(data,50)\n",
        "Q2"
      ],
      "execution_count": 6,
      "outputs": [
        {
          "output_type": "execute_result",
          "data": {
            "text/plain": [
              "-0.30158424637267545"
            ]
          },
          "metadata": {},
          "execution_count": 6
        }
      ]
    },
    {
      "cell_type": "code",
      "metadata": {
        "colab": {
          "base_uri": "https://localhost:8080/"
        },
        "id": "k617TuFq_poG",
        "outputId": "b44d2f0f-ee57-4f37-92c7-59ec84ce9fd2"
      },
      "source": [
        "# Quartile Ketiga\n",
        "Q3 = np.percentile(data,75)\n",
        "Q3"
      ],
      "execution_count": 7,
      "outputs": [
        {
          "output_type": "execute_result",
          "data": {
            "text/plain": [
              "0.3977102355034557"
            ]
          },
          "metadata": {},
          "execution_count": 7
        }
      ]
    },
    {
      "cell_type": "markdown",
      "metadata": {
        "id": "GpYx1Mc6AAqG"
      },
      "source": [
        "**Interquatile Range**\n",
        "$$IQR = Q_3 - Q_1$$"
      ]
    },
    {
      "cell_type": "code",
      "metadata": {
        "colab": {
          "base_uri": "https://localhost:8080/"
        },
        "id": "CIsgN69U_wbl",
        "outputId": "40b4165b-ac67-4c43-ada8-61f72bb8389b"
      },
      "source": [
        "IQR = Q3 - Q1\n",
        "IQR"
      ],
      "execution_count": 8,
      "outputs": [
        {
          "output_type": "execute_result",
          "data": {
            "text/plain": [
              "1.2507101050360552"
            ]
          },
          "metadata": {},
          "execution_count": 8
        }
      ]
    },
    {
      "cell_type": "markdown",
      "metadata": {
        "id": "erGveg3AAUUh"
      },
      "source": [
        "**Variance:**\n",
        "Menunjukkan sejauh mana data tersebar dari rata-rata<br>\n",
        "Rumus Variance untuk populasi\n",
        "$$\\sigma^2 = \\frac{\\displaystyle\\sum_{i=1}^{n}(x_i - \\mu)^2} {n}$$\n",
        "\n",
        "Rumus Variance untuk sampel\n",
        "$$S^2 = \\frac{\\displaystyle\\sum_{i=1}^{n}(x_i - \\mu)^2} {n}$$"
      ]
    },
    {
      "cell_type": "code",
      "metadata": {
        "colab": {
          "base_uri": "https://localhost:8080/"
        },
        "id": "v8X4NMFaAjqD",
        "outputId": "5ff3a515-f024-48b6-f172-642f3f034c9b"
      },
      "source": [
        "# generate 100 data bilangan real\n",
        "populasi = np.random.randn(100)\n",
        "\n",
        "# mengurutkan data\n",
        "populasi = np.sort(populasi)\n",
        "\n",
        "populasi"
      ],
      "execution_count": 9,
      "outputs": [
        {
          "output_type": "execute_result",
          "data": {
            "text/plain": [
              "array([-2.73876362, -1.93041598, -1.66884535, -1.50239297, -1.29039587,\n",
              "       -1.27308197, -1.25442453, -1.25071032, -1.18351825, -1.17822923,\n",
              "       -1.12468636, -1.04770237, -1.02158028, -1.01367204, -1.01348295,\n",
              "       -0.9594527 , -0.84425105, -0.82552   , -0.82424657, -0.81857622,\n",
              "       -0.8014207 , -0.77671906, -0.76012298, -0.66634609, -0.64052896,\n",
              "       -0.60414523, -0.54965528, -0.51791153, -0.51406211, -0.44401545,\n",
              "       -0.40324859, -0.38397889, -0.37909826, -0.33691014, -0.29193931,\n",
              "       -0.26307118, -0.23119032, -0.22973208, -0.19456075, -0.15981007,\n",
              "       -0.14892439, -0.14432962, -0.13337201, -0.05380987, -0.04212065,\n",
              "       -0.03801804, -0.03611993, -0.02808271, -0.00685029,  0.015557  ,\n",
              "        0.04868444,  0.05393255,  0.09082206,  0.17140204,  0.21799922,\n",
              "        0.21947479,  0.21965805,  0.24928312,  0.32092243,  0.38606161,\n",
              "        0.44102596,  0.46141971,  0.47440748,  0.48014835,  0.49584276,\n",
              "        0.53024925,  0.53035731,  0.53351933,  0.56490397,  0.5669807 ,\n",
              "        0.57629894,  0.58162703,  0.58182055,  0.65187136,  0.66585992,\n",
              "        0.6757287 ,  0.76616398,  0.84841706,  0.85763364,  0.86407735,\n",
              "        0.90896904,  0.94386585,  0.95678368,  0.98922395,  1.05669867,\n",
              "        1.10779769,  1.12381075,  1.12478292,  1.13364761,  1.16444991,\n",
              "        1.3444502 ,  1.35121533,  1.50181959,  1.52561457,  1.55599352,\n",
              "        1.76801566,  1.83102858,  1.85335176,  1.96899752,  2.12145615])"
            ]
          },
          "metadata": {},
          "execution_count": 9
        }
      ]
    },
    {
      "cell_type": "code",
      "metadata": {
        "colab": {
          "base_uri": "https://localhost:8080/"
        },
        "id": "AC8PScB2CRq4",
        "outputId": "1d0c2426-269c-4023-e23d-29747bc29619"
      },
      "source": [
        "# generate 100 data bilangan real\n",
        "sampel = np.random.choice(populasi, 20)\n",
        "\n",
        "# mengurutkan data\n",
        "sampel = np.sort(sampel)\n",
        "\n",
        "sampel"
      ],
      "execution_count": 10,
      "outputs": [
        {
          "output_type": "execute_result",
          "data": {
            "text/plain": [
              "array([-1.17822923, -1.01367204, -0.40324859, -0.33691014, -0.22973208,\n",
              "        0.21947479,  0.24928312,  0.24928312,  0.38606161,  0.53024925,\n",
              "        0.56490397,  0.65187136,  0.66585992,  0.76616398,  0.86407735,\n",
              "        0.94386585,  1.05669867,  1.35121533,  1.50181959,  1.83102858])"
            ]
          },
          "metadata": {},
          "execution_count": 10
        }
      ]
    },
    {
      "cell_type": "markdown",
      "metadata": {
        "id": "0XUk6tpUCwB1"
      },
      "source": [
        "**Menghitung Variance**"
      ]
    },
    {
      "cell_type": "code",
      "metadata": {
        "colab": {
          "base_uri": "https://localhost:8080/"
        },
        "id": "uJT1V6tbCuLH",
        "outputId": "9321ec84-f4b2-41f9-e665-6f9490b91fa3"
      },
      "source": [
        "np.var(populasi)"
      ],
      "execution_count": 11,
      "outputs": [
        {
          "output_type": "execute_result",
          "data": {
            "text/plain": [
              "0.8743504004804667"
            ]
          },
          "metadata": {},
          "execution_count": 11
        }
      ]
    },
    {
      "cell_type": "code",
      "metadata": {
        "colab": {
          "base_uri": "https://localhost:8080/"
        },
        "id": "L-pkGc4IC3Xz",
        "outputId": "057cb1a9-ca04-4e23-da4e-2f5423ae6b46"
      },
      "source": [
        "np.var(sampel)"
      ],
      "execution_count": 12,
      "outputs": [
        {
          "output_type": "execute_result",
          "data": {
            "text/plain": [
              "0.57756373408323"
            ]
          },
          "metadata": {},
          "execution_count": 12
        }
      ]
    },
    {
      "cell_type": "markdown",
      "metadata": {
        "id": "CUI4DCOjDPT_"
      },
      "source": [
        "**Standar Deviasi**\n",
        "Standar Deviasi adalah akar dari variance<br>\n",
        "Rumus standar deviasi untuk populasi\n",
        "\n",
        "$$\\sigma =\\sqrt{\\frac{\\displaystyle\\sum_{i=1}^{n}(x_i - \\mu)^2} {n}}$$\n",
        "\n",
        "Rumus standar deviasi untuk sampel\n",
        "$$S =\\sqrt{\\frac{\\displaystyle\\sum_{i=1}^{n}(x_i - \\mu)^2} {n}}$$\n"
      ]
    },
    {
      "cell_type": "markdown",
      "metadata": {
        "id": "ZdbRACj6EHsk"
      },
      "source": [
        "**Menghitung Standar Deviasi**\n"
      ]
    },
    {
      "cell_type": "code",
      "metadata": {
        "colab": {
          "base_uri": "https://localhost:8080/"
        },
        "id": "cYP7rbceDN6i",
        "outputId": "17b5cf59-e5f6-48e6-9039-c9c53a342e5c"
      },
      "source": [
        "np.std(populasi)\n"
      ],
      "execution_count": 13,
      "outputs": [
        {
          "output_type": "execute_result",
          "data": {
            "text/plain": [
              "0.9350670566758658"
            ]
          },
          "metadata": {},
          "execution_count": 13
        }
      ]
    },
    {
      "cell_type": "code",
      "metadata": {
        "colab": {
          "base_uri": "https://localhost:8080/"
        },
        "id": "FVKXni-yEbU4",
        "outputId": "f79ea3e9-ce3d-42a6-bfad-b0332a26dffa"
      },
      "source": [
        "np.std(sampel)"
      ],
      "execution_count": 14,
      "outputs": [
        {
          "output_type": "execute_result",
          "data": {
            "text/plain": [
              "0.7599761404697059"
            ]
          },
          "metadata": {},
          "execution_count": 14
        }
      ]
    }
  ]
}