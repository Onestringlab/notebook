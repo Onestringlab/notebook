{
  "nbformat": 4,
  "nbformat_minor": 0,
  "metadata": {
    "colab": {
      "name": "Mean, Median, Mode dan Populasi.ipynb",
      "provenance": [],
      "collapsed_sections": [],
      "authorship_tag": "ABX9TyOEXentye1AUbbrnNYNFUVw"
    },
    "kernelspec": {
      "name": "python3",
      "display_name": "Python 3"
    },
    "language_info": {
      "name": "python"
    }
  },
  "cells": [
    {
      "cell_type": "markdown",
      "metadata": {
        "id": "h9tgrlY1e3Te"
      },
      "source": [
        "**import library numpy**"
      ]
    },
    {
      "cell_type": "code",
      "metadata": {
        "id": "CHI1OKkOerfs"
      },
      "source": [
        "import numpy as np\n",
        "import matplotlib.pyplot as plt"
      ],
      "execution_count": 1,
      "outputs": []
    },
    {
      "cell_type": "markdown",
      "metadata": {
        "id": "Xp4zy2i9fLb2"
      },
      "source": [
        "**Membuat data**"
      ]
    },
    {
      "cell_type": "code",
      "metadata": {
        "colab": {
          "base_uri": "https://localhost:8080/"
        },
        "id": "3e9S5vu8fRC6",
        "outputId": "e45271cb-4676-4d89-9d2a-f3c444c7b2a9"
      },
      "source": [
        "# angka dari 7 - 10 sebanyak 20 buah\n",
        "data = np.random.randint(7,10,20)\n",
        "data"
      ],
      "execution_count": 2,
      "outputs": [
        {
          "output_type": "execute_result",
          "data": {
            "text/plain": [
              "array([9, 8, 7, 7, 9, 9, 8, 7, 9, 9, 8, 9, 9, 9, 8, 7, 7, 9, 8, 8])"
            ]
          },
          "metadata": {},
          "execution_count": 2
        }
      ]
    },
    {
      "cell_type": "markdown",
      "metadata": {
        "id": "Hy6BbA3yfulB"
      },
      "source": [
        "**Mean** adalah nilai rata-rata dari sebuah data.\n",
        "$$\\bar{X} = \\frac{\\sum_{}{}X_i} n$$\n",
        "\n",
        "dimana X = data observasi; n = jumlah observasi\n"
      ]
    },
    {
      "cell_type": "code",
      "metadata": {
        "colab": {
          "base_uri": "https://localhost:8080/"
        },
        "id": "fFAkciHsgckY",
        "outputId": "f476c2b3-a293-43b2-8c58-2b7d6fba8324"
      },
      "source": [
        "# mean atau rata-rata\n",
        "np.mean(data)"
      ],
      "execution_count": 3,
      "outputs": [
        {
          "output_type": "execute_result",
          "data": {
            "text/plain": [
              "8.2"
            ]
          },
          "metadata": {},
          "execution_count": 3
        }
      ]
    },
    {
      "cell_type": "markdown",
      "metadata": {
        "id": "E2SAThZMiPTS"
      },
      "source": [
        "**Median** adalah nilai tengah dari data ketika data tersebut telah diurutkan."
      ]
    },
    {
      "cell_type": "code",
      "metadata": {
        "colab": {
          "base_uri": "https://localhost:8080/"
        },
        "id": "fI4IgooCi8q3",
        "outputId": "723344a6-10bc-4eb2-a30f-27181888004a"
      },
      "source": [
        "data = np.sort(data)\n",
        "print(data)\n",
        "np.median(data)"
      ],
      "execution_count": 4,
      "outputs": [
        {
          "output_type": "stream",
          "name": "stdout",
          "text": [
            "[7 7 7 7 7 8 8 8 8 8 8 9 9 9 9 9 9 9 9 9]\n"
          ]
        },
        {
          "output_type": "execute_result",
          "data": {
            "text/plain": [
              "8.0"
            ]
          },
          "metadata": {},
          "execution_count": 4
        }
      ]
    },
    {
      "cell_type": "markdown",
      "metadata": {
        "id": "n8ZzWjg7jZTp"
      },
      "source": [
        "**Modus** adalah nilai yang paling sering muncul dalam suatu data."
      ]
    },
    {
      "cell_type": "code",
      "metadata": {
        "colab": {
          "base_uri": "https://localhost:8080/"
        },
        "id": "QBnqUxd3j5Tg",
        "outputId": "d8f1ab6c-708e-4922-ea22-07b2a5d06e4f"
      },
      "source": [
        "# Nilai modus dicari dengan fungsi mode\n",
        "from statistics import mode\n",
        "modus = mode(data)\n",
        "print (modus)"
      ],
      "execution_count": 5,
      "outputs": [
        {
          "output_type": "stream",
          "name": "stdout",
          "text": [
            "9\n"
          ]
        }
      ]
    },
    {
      "cell_type": "markdown",
      "metadata": {
        "id": "hLSKp5gnkfNY"
      },
      "source": [
        "**Populasi dan Sampel**<br>\n",
        "Populasi merupakan keseluruhan dari data yang ada.<br>\n",
        "Sampel merupakan sebagian dari populasi."
      ]
    },
    {
      "cell_type": "code",
      "metadata": {
        "colab": {
          "base_uri": "https://localhost:8080/"
        },
        "id": "4sa-dhwgk4DG",
        "outputId": "04bcb356-1637-4e06-a4d7-f69f8e71a1c3"
      },
      "source": [
        "# populasi data angka dari 1 sampai 9 sebanyak 100 buah\n",
        "populasi = np.random.randint(1,10,100)\n",
        "populasi"
      ],
      "execution_count": 6,
      "outputs": [
        {
          "output_type": "execute_result",
          "data": {
            "text/plain": [
              "array([6, 1, 2, 9, 4, 3, 6, 8, 7, 8, 9, 7, 8, 7, 6, 9, 4, 5, 2, 7, 3, 3,\n",
              "       2, 9, 3, 1, 8, 7, 4, 6, 2, 5, 1, 1, 7, 8, 3, 8, 7, 4, 8, 1, 8, 9,\n",
              "       9, 7, 9, 6, 3, 2, 7, 1, 7, 5, 8, 4, 3, 5, 8, 5, 2, 8, 4, 1, 1, 5,\n",
              "       1, 6, 2, 1, 2, 8, 2, 7, 2, 7, 3, 6, 4, 5, 7, 5, 7, 1, 7, 7, 5, 3,\n",
              "       4, 5, 6, 9, 6, 3, 8, 2, 1, 8, 7, 8])"
            ]
          },
          "metadata": {},
          "execution_count": 6
        }
      ]
    },
    {
      "cell_type": "code",
      "metadata": {
        "colab": {
          "base_uri": "https://localhost:8080/"
        },
        "id": "oowJ2v9Hlhr0",
        "outputId": "1da80259-033c-4a7a-c81a-e53a5fd2a9d3"
      },
      "source": [
        "print(\"Mean :\",np.mean(populasi))\n",
        "print(\"Median :\",np.median(populasi))\n",
        "print(\"Modus :\",mode(populasi))"
      ],
      "execution_count": 7,
      "outputs": [
        {
          "output_type": "stream",
          "name": "stdout",
          "text": [
            "Mean : 5.11\n",
            "Median : 5.0\n",
            "Modus : 7\n"
          ]
        }
      ]
    },
    {
      "cell_type": "markdown",
      "metadata": {
        "id": "UTZttgcOmQeL"
      },
      "source": [
        "**Mengambil sampel dari populasi**"
      ]
    },
    {
      "cell_type": "code",
      "metadata": {
        "colab": {
          "base_uri": "https://localhost:8080/"
        },
        "id": "xm5IzqJnmPN-",
        "outputId": "b6057d7f-114b-4155-fbb2-68d9e0f30681"
      },
      "source": [
        "sampel = np.random.choice(populasi, 20)\n",
        "sampel"
      ],
      "execution_count": 8,
      "outputs": [
        {
          "output_type": "execute_result",
          "data": {
            "text/plain": [
              "array([6, 2, 1, 2, 9, 6, 8, 5, 8, 5, 1, 1, 7, 3, 3, 8, 4, 4, 6, 1])"
            ]
          },
          "metadata": {},
          "execution_count": 8
        }
      ]
    },
    {
      "cell_type": "code",
      "metadata": {
        "colab": {
          "base_uri": "https://localhost:8080/"
        },
        "id": "tkHUqp4Nmd9L",
        "outputId": "20e6074c-b981-458e-d714-589bab309df7"
      },
      "source": [
        "print(\"Mean :\",np.mean(sampel))\n",
        "print(\"Median :\",np.median(sampel))\n",
        "print(\"Modus :\",mode(sampel))"
      ],
      "execution_count": 9,
      "outputs": [
        {
          "output_type": "stream",
          "name": "stdout",
          "text": [
            "Mean : 4.5\n",
            "Median : 4.5\n",
            "Modus : 1\n"
          ]
        }
      ]
    },
    {
      "cell_type": "markdown",
      "metadata": {
        "id": "0BPN5pgFmpcM"
      },
      "source": [
        "**Mengambil sampel beberapa kali dari populasi**"
      ]
    },
    {
      "cell_type": "code",
      "metadata": {
        "id": "Joyz08PLmwBn"
      },
      "source": [
        "sampel_1 = np.random.choice(populasi, 15)\n",
        "sampel_2 = np.random.choice(populasi, 15)\n",
        "sampel_3 = np.random.choice(populasi, 15)\n",
        "sampel_4 = np.random.choice(populasi, 15)"
      ],
      "execution_count": 10,
      "outputs": []
    },
    {
      "cell_type": "code",
      "metadata": {
        "colab": {
          "base_uri": "https://localhost:8080/"
        },
        "id": "66tq3xuWm5Ux",
        "outputId": "87f9db15-807c-4480-c84e-d11729f063c4"
      },
      "source": [
        "# memuat sampel-sampel ke dalam list\n",
        "data_sampel = [sampel_1, sampel_2, sampel_3, sampel_4]\n",
        "mean_sampel = []\n",
        "\n",
        "for x in data_sampel:\n",
        "  mean_sampel.append(np.mean(x))\n",
        "\n",
        "mean_sampel"
      ],
      "execution_count": 11,
      "outputs": [
        {
          "output_type": "execute_result",
          "data": {
            "text/plain": [
              "[4.866666666666666, 5.2, 4.8, 4.8]"
            ]
          },
          "metadata": {},
          "execution_count": 11
        }
      ]
    },
    {
      "cell_type": "code",
      "metadata": {
        "colab": {
          "base_uri": "https://localhost:8080/"
        },
        "id": "Y_f_f-oDnrIB",
        "outputId": "1e7a3461-79a9-4295-d4fc-3d236b37a02c"
      },
      "source": [
        "print(\"Mean dari sample\", np.mean(mean_sampel))"
      ],
      "execution_count": 12,
      "outputs": [
        {
          "output_type": "stream",
          "name": "stdout",
          "text": [
            "Mean dari sample 4.916666666666667\n"
          ]
        }
      ]
    },
    {
      "cell_type": "code",
      "metadata": {
        "colab": {
          "base_uri": "https://localhost:8080/"
        },
        "id": "AulsSoaKnttV",
        "outputId": "993fc26c-c3d8-42b7-e0af-ea7920e7d5f8"
      },
      "source": [
        "print(\"Mean dari populasi\", np.mean(populasi))"
      ],
      "execution_count": 13,
      "outputs": [
        {
          "output_type": "stream",
          "name": "stdout",
          "text": [
            "Mean dari populasi 5.11\n"
          ]
        }
      ]
    },
    {
      "cell_type": "markdown",
      "metadata": {
        "id": "xCMhyw-nn4DG"
      },
      "source": [
        "**Terlihat mean populasi tidak jauh berbeda dari mean sampel**"
      ]
    }
  ]
}