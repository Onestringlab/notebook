{
  "nbformat": 4,
  "nbformat_minor": 0,
  "metadata": {
    "colab": {
      "name": "Mean, Median, Mode dan Populasi.ipynb",
      "provenance": [],
      "collapsed_sections": [],
      "authorship_tag": "ABX9TyMUNNNDcpMa4ugyVkYEtOuZ"
    },
    "kernelspec": {
      "name": "python3",
      "display_name": "Python 3"
    },
    "language_info": {
      "name": "python"
    }
  },
  "cells": [
    {
      "cell_type": "markdown",
      "metadata": {
        "id": "h9tgrlY1e3Te"
      },
      "source": [
        "**import library numpy**"
      ]
    },
    {
      "cell_type": "code",
      "metadata": {
        "id": "CHI1OKkOerfs"
      },
      "source": [
        "import numpy as np\n",
        "import matplotlib.pyplot as plt"
      ],
      "execution_count": 1,
      "outputs": []
    },
    {
      "cell_type": "markdown",
      "metadata": {
        "id": "Xp4zy2i9fLb2"
      },
      "source": [
        "**Membuat data**"
      ]
    },
    {
      "cell_type": "code",
      "metadata": {
        "colab": {
          "base_uri": "https://localhost:8080/"
        },
        "id": "3e9S5vu8fRC6",
        "outputId": "eea0c958-b001-40f4-be23-f189415299a0"
      },
      "source": [
        "# angka dari 7 - 10 sebanyak 20 buah\n",
        "data = np.random.randint(7,10,20)\n",
        "data"
      ],
      "execution_count": 2,
      "outputs": [
        {
          "output_type": "execute_result",
          "data": {
            "text/plain": [
              "array([8, 7, 8, 8, 9, 9, 8, 8, 7, 9, 8, 9, 7, 8, 9, 8, 8, 7, 9, 7])"
            ]
          },
          "metadata": {},
          "execution_count": 2
        }
      ]
    },
    {
      "cell_type": "markdown",
      "metadata": {
        "id": "Hy6BbA3yfulB"
      },
      "source": [
        "**Mean** adalah nilai rata-rata dari sebuah data.\n",
        "$$\\bar{X} = \\frac{\\sum_{}{}X_i} n$$\n",
        "\n",
        "dimana X = data observasi; n = jumlah observasi\n"
      ]
    },
    {
      "cell_type": "code",
      "metadata": {
        "colab": {
          "base_uri": "https://localhost:8080/"
        },
        "id": "fFAkciHsgckY",
        "outputId": "eb3753ab-053b-41f5-db74-ec2ee1c2220a"
      },
      "source": [
        "# mean atau rata-rata\n",
        "np.mean(data)"
      ],
      "execution_count": 3,
      "outputs": [
        {
          "output_type": "execute_result",
          "data": {
            "text/plain": [
              "8.05"
            ]
          },
          "metadata": {},
          "execution_count": 3
        }
      ]
    },
    {
      "cell_type": "markdown",
      "metadata": {
        "id": "vAXjX4MOXd_a"
      },
      "source": [
        ""
      ]
    },
    {
      "cell_type": "markdown",
      "metadata": {
        "id": "E2SAThZMiPTS"
      },
      "source": [
        "**Median** adalah nilai tengah dari data ketika data tersebut telah diurutkan."
      ]
    },
    {
      "cell_type": "code",
      "metadata": {
        "colab": {
          "base_uri": "https://localhost:8080/"
        },
        "id": "fI4IgooCi8q3",
        "outputId": "eba8c93d-b24d-4a6e-a531-314f7e608c5b"
      },
      "source": [
        "data = np.sort(data)\n",
        "print(data)\n",
        "np.median(data)"
      ],
      "execution_count": 4,
      "outputs": [
        {
          "output_type": "stream",
          "name": "stdout",
          "text": [
            "[7 7 7 7 7 8 8 8 8 8 8 8 8 8 9 9 9 9 9 9]\n"
          ]
        },
        {
          "output_type": "execute_result",
          "data": {
            "text/plain": [
              "8.0"
            ]
          },
          "metadata": {},
          "execution_count": 4
        }
      ]
    },
    {
      "cell_type": "markdown",
      "metadata": {
        "id": "n8ZzWjg7jZTp"
      },
      "source": [
        "**Mode** adalah nilai yang paling sering muncul dalam suatu data."
      ]
    },
    {
      "cell_type": "code",
      "metadata": {
        "colab": {
          "base_uri": "https://localhost:8080/"
        },
        "id": "QBnqUxd3j5Tg",
        "outputId": "9111efc2-a595-4d69-f271-a2e7573f106e"
      },
      "source": [
        "# Nilai modus dicari dengan fungsi mode\n",
        "from statistics import mode\n",
        "mode = mode(data)\n",
        "mode"
      ],
      "execution_count": 5,
      "outputs": [
        {
          "output_type": "execute_result",
          "data": {
            "text/plain": [
              "8"
            ]
          },
          "metadata": {},
          "execution_count": 5
        }
      ]
    },
    {
      "cell_type": "markdown",
      "metadata": {
        "id": "hLSKp5gnkfNY"
      },
      "source": [
        "**Populasi dan Sampel**<br>\n",
        "Populasi merupakan keseluruhan dari data yang ada.<br>\n",
        "Sampel merupakan sebagian dari populasi."
      ]
    },
    {
      "cell_type": "code",
      "metadata": {
        "colab": {
          "base_uri": "https://localhost:8080/"
        },
        "id": "4sa-dhwgk4DG",
        "outputId": "c100a84a-40d8-4619-d2ab-1a3ba7e6334a"
      },
      "source": [
        "# populasi data angka dari 1 sampai 9 sebanyak 100 buah\n",
        "populasi = np.random.randint(1,10,100)\n",
        "populasi"
      ],
      "execution_count": 6,
      "outputs": [
        {
          "output_type": "execute_result",
          "data": {
            "text/plain": [
              "array([3, 7, 2, 4, 6, 3, 3, 8, 2, 7, 4, 2, 3, 8, 2, 1, 9, 1, 4, 7, 5, 6,\n",
              "       8, 1, 2, 8, 6, 4, 3, 6, 5, 4, 4, 2, 2, 4, 7, 8, 1, 9, 4, 6, 4, 5,\n",
              "       5, 6, 7, 1, 5, 6, 5, 7, 1, 5, 5, 9, 8, 6, 4, 2, 1, 2, 4, 3, 8, 5,\n",
              "       1, 6, 1, 8, 2, 8, 5, 8, 5, 7, 3, 7, 7, 2, 8, 5, 6, 3, 9, 7, 8, 4,\n",
              "       7, 1, 7, 4, 2, 4, 8, 9, 3, 3, 2, 6])"
            ]
          },
          "metadata": {},
          "execution_count": 6
        }
      ]
    },
    {
      "cell_type": "code",
      "metadata": {
        "colab": {
          "base_uri": "https://localhost:8080/"
        },
        "id": "oowJ2v9Hlhr0",
        "outputId": "60ce5b33-ecff-4c2c-dadc-25208fb94063"
      },
      "source": [
        "from statistics import mode\n",
        "print(\"Mean :\",np.mean(populasi))\n",
        "print(\"Median :\",np.median(populasi))\n",
        "print(\"Mode :\",mode(populasi))"
      ],
      "execution_count": 7,
      "outputs": [
        {
          "output_type": "stream",
          "name": "stdout",
          "text": [
            "Mean : 4.81\n",
            "Median : 5.0\n",
            "Mode : 4\n"
          ]
        }
      ]
    },
    {
      "cell_type": "markdown",
      "metadata": {
        "id": "UTZttgcOmQeL"
      },
      "source": [
        "**Mengambil sampel dari populasi**"
      ]
    },
    {
      "cell_type": "code",
      "metadata": {
        "colab": {
          "base_uri": "https://localhost:8080/"
        },
        "id": "xm5IzqJnmPN-",
        "outputId": "d0ee0c44-6573-40f7-ca29-1f90b8492a45"
      },
      "source": [
        "sampel = np.random.choice(populasi, 20)\n",
        "sampel"
      ],
      "execution_count": 8,
      "outputs": [
        {
          "output_type": "execute_result",
          "data": {
            "text/plain": [
              "array([2, 6, 2, 5, 4, 8, 1, 6, 6, 6, 4, 6, 7, 4, 8, 5, 1, 3, 6, 8])"
            ]
          },
          "metadata": {},
          "execution_count": 8
        }
      ]
    },
    {
      "cell_type": "code",
      "metadata": {
        "colab": {
          "base_uri": "https://localhost:8080/"
        },
        "id": "tkHUqp4Nmd9L",
        "outputId": "4a03e51e-0c2e-479c-82e0-c4071e594617"
      },
      "source": [
        "print(\"Mean :\",np.mean(sampel))\n",
        "print(\"Median :\",np.median(sampel))\n",
        "print(\"Modus :\",mode(sampel))"
      ],
      "execution_count": 9,
      "outputs": [
        {
          "output_type": "stream",
          "name": "stdout",
          "text": [
            "Mean : 4.9\n",
            "Median : 5.5\n",
            "Modus : 6\n"
          ]
        }
      ]
    },
    {
      "cell_type": "markdown",
      "metadata": {
        "id": "0BPN5pgFmpcM"
      },
      "source": [
        "**Mengambil sampel beberapa kali dari populasi**"
      ]
    },
    {
      "cell_type": "code",
      "metadata": {
        "id": "Joyz08PLmwBn"
      },
      "source": [
        "sampel_1 = np.random.choice(populasi, 15)\n",
        "sampel_2 = np.random.choice(populasi, 15)\n",
        "sampel_3 = np.random.choice(populasi, 15)\n",
        "sampel_4 = np.random.choice(populasi, 15)"
      ],
      "execution_count": 10,
      "outputs": []
    },
    {
      "cell_type": "code",
      "metadata": {
        "colab": {
          "base_uri": "https://localhost:8080/"
        },
        "id": "66tq3xuWm5Ux",
        "outputId": "d2f95061-db4c-45ef-d812-41476525ffcb"
      },
      "source": [
        "# memuat sampel-sampel ke dalam list\n",
        "data_sampel = [sampel_1, sampel_2, sampel_3, sampel_4]\n",
        "mean_sampel = []\n",
        "\n",
        "for x in data_sampel:\n",
        "  mean_sampel.append(np.mean(x))\n",
        "\n",
        "mean_sampel"
      ],
      "execution_count": 11,
      "outputs": [
        {
          "output_type": "execute_result",
          "data": {
            "text/plain": [
              "[4.4, 5.333333333333333, 4.933333333333334, 5.266666666666667]"
            ]
          },
          "metadata": {},
          "execution_count": 11
        }
      ]
    },
    {
      "cell_type": "code",
      "metadata": {
        "colab": {
          "base_uri": "https://localhost:8080/"
        },
        "id": "Y_f_f-oDnrIB",
        "outputId": "c49f42e4-c041-4ac4-9c2b-0d4dd3a5ec8a"
      },
      "source": [
        "print(\"Mean dari sample\", np.mean(mean_sampel))"
      ],
      "execution_count": 12,
      "outputs": [
        {
          "output_type": "stream",
          "name": "stdout",
          "text": [
            "Mean dari sample 4.983333333333333\n"
          ]
        }
      ]
    },
    {
      "cell_type": "code",
      "metadata": {
        "colab": {
          "base_uri": "https://localhost:8080/"
        },
        "id": "AulsSoaKnttV",
        "outputId": "b974b99a-11cb-4b39-b7b6-dbeceb3b447d"
      },
      "source": [
        "print(\"Mean dari populasi\", np.mean(populasi))"
      ],
      "execution_count": 13,
      "outputs": [
        {
          "output_type": "stream",
          "name": "stdout",
          "text": [
            "Mean dari populasi 4.81\n"
          ]
        }
      ]
    },
    {
      "cell_type": "markdown",
      "metadata": {
        "id": "xCMhyw-nn4DG"
      },
      "source": [
        "**Terlihat mean populasi tidak jauh berbeda dari mean sampel**"
      ]
    }
  ]
}