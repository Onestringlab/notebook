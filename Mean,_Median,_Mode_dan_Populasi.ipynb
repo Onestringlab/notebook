{
  "nbformat": 4,
  "nbformat_minor": 0,
  "metadata": {
    "colab": {
      "name": "Mean, Median, Mode dan Populasi.ipynb",
      "provenance": [],
      "collapsed_sections": [],
      "authorship_tag": "ABX9TyNrgiFd1HQxEAON/qFF8xfb"
    },
    "kernelspec": {
      "name": "python3",
      "display_name": "Python 3"
    },
    "language_info": {
      "name": "python"
    }
  },
  "cells": [
    {
      "cell_type": "markdown",
      "metadata": {
        "id": "h9tgrlY1e3Te"
      },
      "source": [
        "**import library numpy**"
      ]
    },
    {
      "cell_type": "code",
      "metadata": {
        "id": "CHI1OKkOerfs"
      },
      "source": [
        "import numpy as np\n",
        "import matplotlib.pyplot as plt"
      ],
      "execution_count": 1,
      "outputs": []
    },
    {
      "cell_type": "markdown",
      "metadata": {
        "id": "Xp4zy2i9fLb2"
      },
      "source": [
        "**Membuat data**"
      ]
    },
    {
      "cell_type": "code",
      "metadata": {
        "colab": {
          "base_uri": "https://localhost:8080/"
        },
        "id": "3e9S5vu8fRC6",
        "outputId": "7e9b9095-1a09-4e3a-c044-66c29e3770be"
      },
      "source": [
        "# angka dari 7 - 10 sebanyak 20 buah\n",
        "data = np.random.randint(7,10,20)\n",
        "data"
      ],
      "execution_count": 2,
      "outputs": [
        {
          "output_type": "execute_result",
          "data": {
            "text/plain": [
              "array([8, 8, 9, 8, 7, 8, 9, 9, 8, 8, 9, 8, 9, 8, 7, 7, 9, 9, 8, 9])"
            ]
          },
          "metadata": {},
          "execution_count": 2
        }
      ]
    },
    {
      "cell_type": "markdown",
      "metadata": {
        "id": "Hy6BbA3yfulB"
      },
      "source": [
        "**Mean** adalah nilai rata-rata dari sebuah data.\n",
        "$$\\bar{X} = \\frac{\\sum_{}{}X_i} n$$\n",
        "\n",
        "dimana X = data observasi; n = jumlah observasi\n"
      ]
    },
    {
      "cell_type": "code",
      "metadata": {
        "colab": {
          "base_uri": "https://localhost:8080/"
        },
        "id": "fFAkciHsgckY",
        "outputId": "729e1340-a3e3-4d0f-bf09-3ee97d2a6a86"
      },
      "source": [
        "# mean atau rata-rata\n",
        "np.mean(data)"
      ],
      "execution_count": 3,
      "outputs": [
        {
          "output_type": "execute_result",
          "data": {
            "text/plain": [
              "8.25"
            ]
          },
          "metadata": {},
          "execution_count": 3
        }
      ]
    },
    {
      "cell_type": "markdown",
      "metadata": {
        "id": "vAXjX4MOXd_a"
      },
      "source": [
        ""
      ]
    },
    {
      "cell_type": "markdown",
      "metadata": {
        "id": "E2SAThZMiPTS"
      },
      "source": [
        "**Median** adalah nilai tengah dari data ketika data tersebut telah diurutkan."
      ]
    },
    {
      "cell_type": "code",
      "metadata": {
        "colab": {
          "base_uri": "https://localhost:8080/"
        },
        "id": "fI4IgooCi8q3",
        "outputId": "7f364370-6e3a-4ff2-d954-09e0f056429a"
      },
      "source": [
        "data = np.sort(data)\n",
        "print(data)\n",
        "np.median(data)"
      ],
      "execution_count": 4,
      "outputs": [
        {
          "output_type": "stream",
          "name": "stdout",
          "text": [
            "[7 7 7 8 8 8 8 8 8 8 8 8 9 9 9 9 9 9 9 9]\n"
          ]
        },
        {
          "output_type": "execute_result",
          "data": {
            "text/plain": [
              "8.0"
            ]
          },
          "metadata": {},
          "execution_count": 4
        }
      ]
    },
    {
      "cell_type": "markdown",
      "metadata": {
        "id": "n8ZzWjg7jZTp"
      },
      "source": [
        "**Mode** adalah nilai yang paling sering muncul dalam suatu data."
      ]
    },
    {
      "cell_type": "code",
      "metadata": {
        "colab": {
          "base_uri": "https://localhost:8080/"
        },
        "id": "QBnqUxd3j5Tg",
        "outputId": "ae939d0d-237d-4f82-a8b6-72e26835d609"
      },
      "source": [
        "# Nilai mode dicari dengan fungsi mode\n",
        "import statistics\n",
        "mode = statistics.mode(data)\n",
        "mode"
      ],
      "execution_count": 5,
      "outputs": [
        {
          "output_type": "execute_result",
          "data": {
            "text/plain": [
              "8"
            ]
          },
          "metadata": {},
          "execution_count": 5
        }
      ]
    },
    {
      "cell_type": "markdown",
      "metadata": {
        "id": "hLSKp5gnkfNY"
      },
      "source": [
        "**Populasi dan Sampel**<br>\n",
        "Populasi merupakan keseluruhan dari data yang ada.<br>\n",
        "Sampel merupakan sebagian dari populasi."
      ]
    },
    {
      "cell_type": "code",
      "metadata": {
        "colab": {
          "base_uri": "https://localhost:8080/"
        },
        "id": "4sa-dhwgk4DG",
        "outputId": "9402b958-5937-4aa1-f9a8-30774fcc48d5"
      },
      "source": [
        "# populasi data angka dari 1 sampai 9 sebanyak 100 buah\n",
        "populasi = np.random.randint(1,10,100)\n",
        "populasi"
      ],
      "execution_count": 6,
      "outputs": [
        {
          "output_type": "execute_result",
          "data": {
            "text/plain": [
              "array([9, 7, 7, 7, 4, 5, 7, 8, 4, 2, 2, 7, 1, 5, 7, 4, 1, 5, 5, 7, 4, 5,\n",
              "       5, 7, 7, 1, 5, 7, 7, 6, 8, 1, 9, 2, 6, 3, 2, 2, 1, 3, 7, 2, 2, 1,\n",
              "       4, 5, 7, 8, 8, 9, 2, 5, 2, 9, 2, 4, 9, 4, 5, 6, 9, 9, 3, 5, 9, 5,\n",
              "       8, 4, 9, 2, 5, 7, 2, 9, 3, 4, 9, 6, 4, 3, 1, 1, 2, 3, 2, 4, 9, 5,\n",
              "       3, 8, 7, 5, 8, 5, 8, 8, 8, 8, 5, 1])"
            ]
          },
          "metadata": {},
          "execution_count": 6
        }
      ]
    },
    {
      "cell_type": "code",
      "metadata": {
        "colab": {
          "base_uri": "https://localhost:8080/"
        },
        "id": "oowJ2v9Hlhr0",
        "outputId": "9d3ca08b-16bb-44d0-805e-b4266a90b8bb"
      },
      "source": [
        "\n",
        "print(\"Mean :\",np.mean(populasi))\n",
        "print(\"Median :\",np.median(populasi))\n",
        "print(\"Mode :\",statistics.mode(populasi))"
      ],
      "execution_count": 7,
      "outputs": [
        {
          "output_type": "stream",
          "name": "stdout",
          "text": [
            "Mean : 5.12\n",
            "Median : 5.0\n",
            "Mode : 5\n"
          ]
        }
      ]
    },
    {
      "cell_type": "markdown",
      "metadata": {
        "id": "UTZttgcOmQeL"
      },
      "source": [
        "**Mengambil sampel dari populasi**"
      ]
    },
    {
      "cell_type": "code",
      "metadata": {
        "colab": {
          "base_uri": "https://localhost:8080/"
        },
        "id": "xm5IzqJnmPN-",
        "outputId": "7b3b544a-8567-44d1-c78a-b507736f4773"
      },
      "source": [
        "sampel = np.random.choice(populasi, 20)\n",
        "sampel"
      ],
      "execution_count": 8,
      "outputs": [
        {
          "output_type": "execute_result",
          "data": {
            "text/plain": [
              "array([2, 7, 6, 4, 5, 5, 4, 1, 8, 5, 8, 2, 6, 8, 3, 9, 9, 3, 5, 9])"
            ]
          },
          "metadata": {},
          "execution_count": 8
        }
      ]
    },
    {
      "cell_type": "code",
      "metadata": {
        "colab": {
          "base_uri": "https://localhost:8080/"
        },
        "id": "tkHUqp4Nmd9L",
        "outputId": "a256c8ec-4234-4039-f470-3e85a1d7b6d0"
      },
      "source": [
        "print(\"Mean :\",np.mean(sampel))\n",
        "print(\"Median :\",np.median(sampel))\n",
        "print(\"Mode :\",statistics.mode(sampel))"
      ],
      "execution_count": 9,
      "outputs": [
        {
          "output_type": "stream",
          "name": "stdout",
          "text": [
            "Mean : 5.45\n",
            "Median : 5.0\n",
            "Mode : 5\n"
          ]
        }
      ]
    },
    {
      "cell_type": "markdown",
      "metadata": {
        "id": "0BPN5pgFmpcM"
      },
      "source": [
        "**Mengambil sampel beberapa kali dari populasi**"
      ]
    },
    {
      "cell_type": "code",
      "metadata": {
        "id": "Joyz08PLmwBn"
      },
      "source": [
        "sampel_1 = np.random.choice(populasi, 15)\n",
        "sampel_2 = np.random.choice(populasi, 15)\n",
        "sampel_3 = np.random.choice(populasi, 15)\n",
        "sampel_4 = np.random.choice(populasi, 15)"
      ],
      "execution_count": 10,
      "outputs": []
    },
    {
      "cell_type": "code",
      "metadata": {
        "colab": {
          "base_uri": "https://localhost:8080/"
        },
        "id": "66tq3xuWm5Ux",
        "outputId": "eac6db19-8f12-4b5b-8313-1406493389bc"
      },
      "source": [
        "# memuat sampel-sampel ke dalam list\n",
        "data_sampel = [sampel_1, sampel_2, sampel_3, sampel_4]\n",
        "mean_sampel = []\n",
        "\n",
        "for x in data_sampel:\n",
        "  mean_sampel.append(np.mean(x))\n",
        "\n",
        "mean_sampel"
      ],
      "execution_count": 11,
      "outputs": [
        {
          "output_type": "execute_result",
          "data": {
            "text/plain": [
              "[4.866666666666666, 5.266666666666667, 4.866666666666666, 5.133333333333334]"
            ]
          },
          "metadata": {},
          "execution_count": 11
        }
      ]
    },
    {
      "cell_type": "code",
      "metadata": {
        "colab": {
          "base_uri": "https://localhost:8080/"
        },
        "id": "Y_f_f-oDnrIB",
        "outputId": "623489c2-c879-41d4-ab16-1f092fa5c918"
      },
      "source": [
        "print(\"Mean dari sample\", np.mean(mean_sampel))"
      ],
      "execution_count": 12,
      "outputs": [
        {
          "output_type": "stream",
          "name": "stdout",
          "text": [
            "Mean dari sample 5.033333333333333\n"
          ]
        }
      ]
    },
    {
      "cell_type": "code",
      "metadata": {
        "colab": {
          "base_uri": "https://localhost:8080/"
        },
        "id": "AulsSoaKnttV",
        "outputId": "30303e90-3fb3-4aa8-ebc6-cc0e37c2f9c2"
      },
      "source": [
        "print(\"Mean dari populasi\", np.mean(populasi))"
      ],
      "execution_count": 13,
      "outputs": [
        {
          "output_type": "stream",
          "name": "stdout",
          "text": [
            "Mean dari populasi 5.12\n"
          ]
        }
      ]
    },
    {
      "cell_type": "markdown",
      "metadata": {
        "id": "xCMhyw-nn4DG"
      },
      "source": [
        "**Terlihat mean populasi tidak jauh berbeda dari mean sampel**"
      ]
    }
  ]
}