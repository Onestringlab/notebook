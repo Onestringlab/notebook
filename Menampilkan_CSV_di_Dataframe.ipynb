{
  "nbformat": 4,
  "nbformat_minor": 0,
  "metadata": {
    "colab": {
      "name": "Menampilkan CSV di Dataframe",
      "provenance": [],
      "collapsed_sections": [],
      "authorship_tag": "ABX9TyOm070pqgbqNeVH+A5cJ5dP"
    },
    "kernelspec": {
      "name": "python3",
      "display_name": "Python 3"
    },
    "language_info": {
      "name": "python"
    }
  },
  "cells": [
    {
      "cell_type": "markdown",
      "metadata": {
        "id": "rkRPxN5HIqDr"
      },
      "source": [
        "**Memuat data ke Pandas**"
      ]
    },
    {
      "cell_type": "code",
      "metadata": {
        "id": "OKBznC7GjAso"
      },
      "source": [
        "import pandas as pd\n",
        "\n",
        "df = pd.read_csv('https://raw.githubusercontent.com/Onestringlab/notebook/main/pokemon_data.csv')"
      ],
      "execution_count": 1,
      "outputs": []
    },
    {
      "cell_type": "markdown",
      "metadata": {
        "id": "dYW5oKqaJVy0"
      },
      "source": [
        "**Menampilkan 5 data pertama**"
      ]
    },
    {
      "cell_type": "code",
      "metadata": {
        "colab": {
          "base_uri": "https://localhost:8080/"
        },
        "id": "RgK6eH1YJU6D",
        "outputId": "44cbc0cb-a684-4b6f-f552-950705adfa8d"
      },
      "source": [
        "print(df.head(5))"
      ],
      "execution_count": 2,
      "outputs": [
        {
          "output_type": "stream",
          "name": "stdout",
          "text": [
            "   #                   Name Type 1  ... Speed  Generation  Legendary\n",
            "0  1              Bulbasaur  Grass  ...    45           1      False\n",
            "1  2                Ivysaur  Grass  ...    60           1      False\n",
            "2  3               Venusaur  Grass  ...    80           1      False\n",
            "3  3  VenusaurMega Venusaur  Grass  ...    80           1      False\n",
            "4  4             Charmander   Fire  ...    65           1      False\n",
            "\n",
            "[5 rows x 12 columns]\n"
          ]
        }
      ]
    },
    {
      "cell_type": "markdown",
      "metadata": {
        "id": "sa2jN1ZQJxjk"
      },
      "source": [
        "**Menampilkan 10 data terakhir**"
      ]
    },
    {
      "cell_type": "code",
      "metadata": {
        "colab": {
          "base_uri": "https://localhost:8080/"
        },
        "id": "IRBDDIsoJ3B8",
        "outputId": "efbadc57-8b37-4420-a268-1f84ac83f500"
      },
      "source": [
        "print(df.tail(5))"
      ],
      "execution_count": 3,
      "outputs": [
        {
          "output_type": "stream",
          "name": "stdout",
          "text": [
            "       #                 Name   Type 1  ... Speed  Generation  Legendary\n",
            "795  719              Diancie     Rock  ...    50           6       True\n",
            "796  719  DiancieMega Diancie     Rock  ...   110           6       True\n",
            "797  720  HoopaHoopa Confined  Psychic  ...    70           6       True\n",
            "798  720   HoopaHoopa Unbound  Psychic  ...    80           6       True\n",
            "799  721            Volcanion     Fire  ...    70           6       True\n",
            "\n",
            "[5 rows x 12 columns]\n"
          ]
        }
      ]
    },
    {
      "cell_type": "markdown",
      "metadata": {
        "id": "KLunUvnWKLrt"
      },
      "source": [
        "**Menampilkan nama judul kolom**"
      ]
    },
    {
      "cell_type": "code",
      "metadata": {
        "colab": {
          "base_uri": "https://localhost:8080/"
        },
        "id": "LmiqvmhFKUaQ",
        "outputId": "9088c228-e1c0-4236-aa91-31a59136426f"
      },
      "source": [
        "print(df.columns)"
      ],
      "execution_count": 4,
      "outputs": [
        {
          "output_type": "stream",
          "name": "stdout",
          "text": [
            "Index(['#', 'Name', 'Type 1', 'Type 2', 'HP', 'Attack', 'Defense', 'Sp. Atk',\n",
            "       'Sp. Def', 'Speed', 'Generation', 'Legendary'],\n",
            "      dtype='object')\n"
          ]
        }
      ]
    },
    {
      "cell_type": "markdown",
      "metadata": {
        "id": "J09qYEJkKeRk"
      },
      "source": [
        "**Menampilkan data berdasarkan kolom**"
      ]
    },
    {
      "cell_type": "code",
      "metadata": {
        "colab": {
          "base_uri": "https://localhost:8080/"
        },
        "id": "M9MOVU8gKtzH",
        "outputId": "22d0d423-c292-4747-c054-32d18b1152d8"
      },
      "source": [
        "print(df[['Name','Type 1', 'HP']])"
      ],
      "execution_count": 5,
      "outputs": [
        {
          "output_type": "stream",
          "name": "stdout",
          "text": [
            "                      Name   Type 1  HP\n",
            "0                Bulbasaur    Grass  45\n",
            "1                  Ivysaur    Grass  60\n",
            "2                 Venusaur    Grass  80\n",
            "3    VenusaurMega Venusaur    Grass  80\n",
            "4               Charmander     Fire  39\n",
            "..                     ...      ...  ..\n",
            "795                Diancie     Rock  50\n",
            "796    DiancieMega Diancie     Rock  50\n",
            "797    HoopaHoopa Confined  Psychic  80\n",
            "798     HoopaHoopa Unbound  Psychic  80\n",
            "799              Volcanion     Fire  80\n",
            "\n",
            "[800 rows x 3 columns]\n"
          ]
        }
      ]
    },
    {
      "cell_type": "markdown",
      "metadata": {
        "id": "EGN6enmtKyLJ"
      },
      "source": [
        "**Menampilkan data berdasarkan baris**"
      ]
    },
    {
      "cell_type": "code",
      "metadata": {
        "colab": {
          "base_uri": "https://localhost:8080/"
        },
        "id": "6NEjzcExLJAB",
        "outputId": "12b7fc00-7ba8-4d55-8b56-02154157c49e"
      },
      "source": [
        "print(df.iloc[0:4])"
      ],
      "execution_count": 6,
      "outputs": [
        {
          "output_type": "stream",
          "name": "stdout",
          "text": [
            "   #                   Name Type 1  ... Speed  Generation  Legendary\n",
            "0  1              Bulbasaur  Grass  ...    45           1      False\n",
            "1  2                Ivysaur  Grass  ...    60           1      False\n",
            "2  3               Venusaur  Grass  ...    80           1      False\n",
            "3  3  VenusaurMega Venusaur  Grass  ...    80           1      False\n",
            "\n",
            "[4 rows x 12 columns]\n"
          ]
        }
      ]
    },
    {
      "cell_type": "code",
      "metadata": {
        "colab": {
          "base_uri": "https://localhost:8080/"
        },
        "id": "BHexYm17LvUs",
        "outputId": "118f3541-0e22-46bb-d06c-91a23b30d2e4"
      },
      "source": [
        "for index, row in df.iterrows():\n",
        "  print(index,row['Name'])\n",
        "  if index == 50:\n",
        "    break"
      ],
      "execution_count": 7,
      "outputs": [
        {
          "output_type": "stream",
          "name": "stdout",
          "text": [
            "0 Bulbasaur\n",
            "1 Ivysaur\n",
            "2 Venusaur\n",
            "3 VenusaurMega Venusaur\n",
            "4 Charmander\n",
            "5 Charmeleon\n",
            "6 Charizard\n",
            "7 CharizardMega Charizard X\n",
            "8 CharizardMega Charizard Y\n",
            "9 Squirtle\n",
            "10 Wartortle\n",
            "11 Blastoise\n",
            "12 BlastoiseMega Blastoise\n",
            "13 Caterpie\n",
            "14 Metapod\n",
            "15 Butterfree\n",
            "16 Weedle\n",
            "17 Kakuna\n",
            "18 Beedrill\n",
            "19 BeedrillMega Beedrill\n",
            "20 Pidgey\n",
            "21 Pidgeotto\n",
            "22 Pidgeot\n",
            "23 PidgeotMega Pidgeot\n",
            "24 Rattata\n",
            "25 Raticate\n",
            "26 Spearow\n",
            "27 Fearow\n",
            "28 Ekans\n",
            "29 Arbok\n",
            "30 Pikachu\n",
            "31 Raichu\n",
            "32 Sandshrew\n",
            "33 Sandslash\n",
            "34 Nidoran (Female)\n",
            "35 Nidorina\n",
            "36 Nidoqueen\n",
            "37 Nidoran (Male)\n",
            "38 Nidorino\n",
            "39 Nidoking\n",
            "40 Clefairy\n",
            "41 Clefable\n",
            "42 Vulpix\n",
            "43 Ninetales\n",
            "44 Jigglypuff\n",
            "45 Wigglytuff\n",
            "46 Zubat\n",
            "47 Golbat\n",
            "48 Oddish\n",
            "49 Gloom\n",
            "50 Vileplume\n"
          ]
        }
      ]
    },
    {
      "cell_type": "code",
      "metadata": {
        "colab": {
          "base_uri": "https://localhost:8080/"
        },
        "id": "C06SWxbTMSXY",
        "outputId": "20ce98af-d129-4cb5-a1f4-8bf235faee74"
      },
      "source": [
        "print(df.loc[df['Type 1'] == 'Fire'].head(10))"
      ],
      "execution_count": 8,
      "outputs": [
        {
          "output_type": "stream",
          "name": "stdout",
          "text": [
            "     #                       Name Type 1  ... Speed  Generation  Legendary\n",
            "4    4                 Charmander   Fire  ...    65           1      False\n",
            "5    5                 Charmeleon   Fire  ...    80           1      False\n",
            "6    6                  Charizard   Fire  ...   100           1      False\n",
            "7    6  CharizardMega Charizard X   Fire  ...   100           1      False\n",
            "8    6  CharizardMega Charizard Y   Fire  ...   100           1      False\n",
            "42  37                     Vulpix   Fire  ...    65           1      False\n",
            "43  38                  Ninetales   Fire  ...   100           1      False\n",
            "63  58                  Growlithe   Fire  ...    60           1      False\n",
            "64  59                   Arcanine   Fire  ...    95           1      False\n",
            "83  77                     Ponyta   Fire  ...    90           1      False\n",
            "\n",
            "[10 rows x 12 columns]\n"
          ]
        }
      ]
    }
  ]
}